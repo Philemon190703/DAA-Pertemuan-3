{
  "nbformat": 4,
  "nbformat_minor": 0,
  "metadata": {
    "colab": {
      "provenance": [],
      "collapsed_sections": []
    },
    "kernelspec": {
      "name": "python3",
      "display_name": "Python 3"
    },
    "language_info": {
      "name": "python"
    }
  },
  "cells": [
    {
      "cell_type": "code",
      "execution_count": 2,
      "metadata": {
        "colab": {
          "base_uri": "https://localhost:8080/"
        },
        "id": "aExPOQXGiCqs",
        "outputId": "47366ec1-23be-4428-aff4-2b50505abdce"
      },
      "outputs": [
        {
          "output_type": "stream",
          "name": "stdout",
          "text": [
            "['Philemon', 19, 'Bintaro', True]\n"
          ]
        }
      ],
      "source": [
        "aList = [\"Philemon\",19,\"Bintaro\",True]\n",
        "print(aList)"
      ]
    },
    {
      "cell_type": "code",
      "source": [
        "aList = [\"Mahasiswa\",\"Philemon\",2021071020,\"Informatika\",\"Desain dan Analisis Algoritma\",\"14-09-2022\",\"Universitas Pembangunan Jaya\"]\n",
        "print(aList)"
      ],
      "metadata": {
        "colab": {
          "base_uri": "https://localhost:8080/"
        },
        "id": "EYQxvI-DlIFt",
        "outputId": "1aebd2be-3be6-4940-d1ab-b109589f731c"
      },
      "execution_count": 29,
      "outputs": [
        {
          "output_type": "stream",
          "name": "stdout",
          "text": [
            "['Mahasiswa', 'Philemon', 2021071020, 'Informatika', 'Desain dan Analisis Algoritma', '14-09-2022', 'Universitas Pembangunan Jaya']\n"
          ]
        }
      ]
    },
    {
      "cell_type": "code",
      "source": [
        "bin_colors=['Red','Green','Blue','Yellow']\n",
        "bin_colors[3]"
      ],
      "metadata": {
        "colab": {
          "base_uri": "https://localhost:8080/",
          "height": 35
        },
        "id": "KaWL5vH7qYCo",
        "outputId": "19e247d3-7df3-4050-80aa-cead51091215"
      },
      "execution_count": 14,
      "outputs": [
        {
          "output_type": "execute_result",
          "data": {
            "text/plain": [
              "'Yellow'"
            ],
            "application/vnd.google.colaboratory.intrinsic+json": {
              "type": "string"
            }
          },
          "metadata": {},
          "execution_count": 14
        }
      ]
    },
    {
      "cell_type": "markdown",
      "source": [
        "Latihan"
      ],
      "metadata": {
        "id": "DGi48kNxs3is"
      }
    },
    {
      "cell_type": "code",
      "source": [
        "bin_alist=[\"Mahasiwa\",\"Philemon\",2021071020]\n",
        "bin_alist[2]"
      ],
      "metadata": {
        "colab": {
          "base_uri": "https://localhost:8080/"
        },
        "id": "aUT1yheLs5Ph",
        "outputId": "df777452-2d34-48eb-ab0c-715b1d3d5789"
      },
      "execution_count": 17,
      "outputs": [
        {
          "output_type": "execute_result",
          "data": {
            "text/plain": [
              "2021071020"
            ]
          },
          "metadata": {},
          "execution_count": 17
        }
      ]
    },
    {
      "cell_type": "markdown",
      "source": [
        "Latihan"
      ],
      "metadata": {
        "id": "oOIBEvX1tqrZ"
      }
    },
    {
      "cell_type": "code",
      "source": [
        "aList[5]"
      ],
      "metadata": {
        "colab": {
          "base_uri": "https://localhost:8080/",
          "height": 35
        },
        "id": "qs0t2VlwtsG4",
        "outputId": "c8d516c0-0b3f-4540-8a98-6a39d0ba1151"
      },
      "execution_count": 19,
      "outputs": [
        {
          "output_type": "execute_result",
          "data": {
            "text/plain": [
              "'Universitas Pembangunan Jaya'"
            ],
            "application/vnd.google.colaboratory.intrinsic+json": {
              "type": "string"
            }
          },
          "metadata": {},
          "execution_count": 19
        }
      ]
    },
    {
      "cell_type": "code",
      "source": [
        "bin_colors=['Red','Green','Blue','Yellow']\n",
        "bin_colors[0:2]"
      ],
      "metadata": {
        "colab": {
          "base_uri": "https://localhost:8080/"
        },
        "id": "hAnWVcbEvkVx",
        "outputId": "f03d4ee3-6ec0-48d3-d044-740f80b674ba"
      },
      "execution_count": 24,
      "outputs": [
        {
          "output_type": "execute_result",
          "data": {
            "text/plain": [
              "['Red', 'Green']"
            ]
          },
          "metadata": {},
          "execution_count": 24
        }
      ]
    },
    {
      "cell_type": "markdown",
      "source": [
        "Latihan"
      ],
      "metadata": {
        "id": "YJ-HB-UiyJLP"
      }
    },
    {
      "cell_type": "code",
      "source": [
        "aList[2:4]"
      ],
      "metadata": {
        "colab": {
          "base_uri": "https://localhost:8080/"
        },
        "id": "OAti4FDwyKnn",
        "outputId": "5acca699-bbb4-4525-f41c-f97410f9b58e"
      },
      "execution_count": 30,
      "outputs": [
        {
          "output_type": "execute_result",
          "data": {
            "text/plain": [
              "[2021071020, 'Informatika']"
            ]
          },
          "metadata": {},
          "execution_count": 30
        }
      ]
    },
    {
      "cell_type": "code",
      "source": [
        "bin_Colors=['Red','Green','Blue','Yellow']\n",
        "for aColors in bin_colors:\n",
        "  print(aColors + \"Square\")"
      ],
      "metadata": {
        "colab": {
          "base_uri": "https://localhost:8080/"
        },
        "id": "QX31X1c7zdRd",
        "outputId": "519b3fc2-2688-4eb7-e565-a672817ce3ce"
      },
      "execution_count": 48,
      "outputs": [
        {
          "output_type": "stream",
          "name": "stdout",
          "text": [
            "RedSquare\n",
            "GreenSquare\n",
            "BlueSquare\n",
            "YellowSquare\n"
          ]
        }
      ]
    },
    {
      "cell_type": "markdown",
      "source": [
        "Latihan"
      ],
      "metadata": {
        "id": "HMFmPRgY2zD-"
      }
    },
    {
      "cell_type": "code",
      "source": [
        "for dataMahasiswa in bin_alist:\n",
        "  print(\"UPJ\", dataMahasiswa)"
      ],
      "metadata": {
        "colab": {
          "base_uri": "https://localhost:8080/"
        },
        "id": "ThsgWUEU20VG",
        "outputId": "eadf631f-eaf9-4be9-c163-b93dee9a8a34"
      },
      "execution_count": 57,
      "outputs": [
        {
          "output_type": "stream",
          "name": "stdout",
          "text": [
            "UPJ Mahasiwa\n",
            "UPJ Philemon\n",
            "UPJ 2021071020\n"
          ]
        }
      ]
    },
    {
      "cell_type": "code",
      "source": [
        "bin_Colors=['Red','Green','Blue','Yellow']\n",
        "bin_Colors[1]"
      ],
      "metadata": {
        "colab": {
          "base_uri": "https://localhost:8080/",
          "height": 35
        },
        "id": "82-JVuFc50kS",
        "outputId": "7fb933ab-e3d9-48e1-82d5-5f13387e00ed"
      },
      "execution_count": 65,
      "outputs": [
        {
          "output_type": "execute_result",
          "data": {
            "text/plain": [
              "'Green'"
            ],
            "application/vnd.google.colaboratory.intrinsic+json": {
              "type": "string"
            }
          },
          "metadata": {},
          "execution_count": 65
        }
      ]
    },
    {
      "cell_type": "code",
      "source": [
        "bin_Colors[2:]"
      ],
      "metadata": {
        "colab": {
          "base_uri": "https://localhost:8080/"
        },
        "id": "7JU9hIMB6P2O",
        "outputId": "ae1a8ef0-9219-464f-8c1c-c88f7afcad23"
      },
      "execution_count": 68,
      "outputs": [
        {
          "output_type": "execute_result",
          "data": {
            "text/plain": [
              "['Blue', 'Yellow']"
            ]
          },
          "metadata": {},
          "execution_count": 68
        }
      ]
    },
    {
      "cell_type": "markdown",
      "source": [
        "Latihan"
      ],
      "metadata": {
        "id": "03pw8Ywx8M3d"
      }
    },
    {
      "cell_type": "code",
      "source": [
        "bin_UPJ=('Universitas','Pembangunan','Jaya')\n",
        "bin_UPJ"
      ],
      "metadata": {
        "colab": {
          "base_uri": "https://localhost:8080/"
        },
        "id": "F7ypHcHu8OFo",
        "outputId": "45e42cc1-b479-4de8-df56-e832e522de71"
      },
      "execution_count": 70,
      "outputs": [
        {
          "output_type": "execute_result",
          "data": {
            "text/plain": [
              "('Universitas', 'Pembangunan', 'Jaya')"
            ]
          },
          "metadata": {},
          "execution_count": 70
        }
      ]
    },
    {
      "cell_type": "markdown",
      "source": [
        "Latihan"
      ],
      "metadata": {
        "id": "Io5Ehys997UI"
      }
    },
    {
      "cell_type": "code",
      "source": [
        "#Nested Tuple\n",
        "nested_tuple = ([100],[200,400,600],[300],[400,800])\n",
        "print(nested_tuple)"
      ],
      "metadata": {
        "colab": {
          "base_uri": "https://localhost:8080/"
        },
        "id": "EZylBvRW98wF",
        "outputId": "3bf5fae9-1690-48f1-a721-c78011e87dea"
      },
      "execution_count": 75,
      "outputs": [
        {
          "output_type": "stream",
          "name": "stdout",
          "text": [
            "([100], [200, 400, 600], [300], [400, 800])\n"
          ]
        }
      ]
    },
    {
      "cell_type": "code",
      "source": [
        "bin_colors ={\n",
        "\"manual_color\": \"Yellow\",\n",
        "\"approved_color\": \"Green\",\n",
        "\"refused_color\": \"Red\"}\n",
        "\n",
        "print(bin_colors)"
      ],
      "metadata": {
        "colab": {
          "base_uri": "https://localhost:8080/"
        },
        "id": "myOqPiHNBvPz",
        "outputId": "e82a60ef-546c-4716-e118-7f7d5ca29a76"
      },
      "execution_count": 78,
      "outputs": [
        {
          "output_type": "stream",
          "name": "stdout",
          "text": [
            "{'manual_color': 'Yellow', 'approved_color': 'Green', 'refused_color': 'Red'}\n"
          ]
        }
      ]
    },
    {
      "cell_type": "code",
      "source": [
        "bin_colors.get(\"approved_color\")"
      ],
      "metadata": {
        "colab": {
          "base_uri": "https://localhost:8080/",
          "height": 35
        },
        "id": "sUgY0XuyDaxj",
        "outputId": "da7817ef-b183-4601-d32e-a09d61b48fb9"
      },
      "execution_count": 79,
      "outputs": [
        {
          "output_type": "execute_result",
          "data": {
            "text/plain": [
              "'Green'"
            ],
            "application/vnd.google.colaboratory.intrinsic+json": {
              "type": "string"
            }
          },
          "metadata": {},
          "execution_count": 79
        }
      ]
    },
    {
      "cell_type": "code",
      "source": [
        "bin_colors['approved_color']"
      ],
      "metadata": {
        "colab": {
          "base_uri": "https://localhost:8080/",
          "height": 35
        },
        "id": "mtUyb0yeEVRP",
        "outputId": "827e4490-ea7f-4142-fc96-259e03ab5b1e"
      },
      "execution_count": 80,
      "outputs": [
        {
          "output_type": "execute_result",
          "data": {
            "text/plain": [
              "'Green'"
            ],
            "application/vnd.google.colaboratory.intrinsic+json": {
              "type": "string"
            }
          },
          "metadata": {},
          "execution_count": 80
        }
      ]
    },
    {
      "cell_type": "code",
      "source": [
        "bin_colors['approved_color']=\"Purple\"\n",
        "print(bin_colors)"
      ],
      "metadata": {
        "colab": {
          "base_uri": "https://localhost:8080/"
        },
        "id": "W1Zdr7lGHQK0",
        "outputId": "76782177-05f5-4fd7-bae1-5f8d35ca5b55"
      },
      "execution_count": 81,
      "outputs": [
        {
          "output_type": "stream",
          "name": "stdout",
          "text": [
            "{'manual_color': 'Yellow', 'approved_color': 'Purple', 'refused_color': 'Red'}\n"
          ]
        }
      ]
    },
    {
      "cell_type": "markdown",
      "source": [
        "Latihan"
      ],
      "metadata": {
        "id": "6G5BqDLpIpU4"
      }
    },
    {
      "cell_type": "code",
      "source": [
        "latihan={\n",
        "    \"Nama\":\"Philemon Hasoloan Maxaudi\",\n",
        "    \"NIM\":\"2021071020\",\n",
        "    \"Prodi\":\"Informatika\",\n",
        "    \"Universitas\":\"UPJ\"\n",
        "}\n",
        "\n",
        "print(latihan)"
      ],
      "metadata": {
        "colab": {
          "base_uri": "https://localhost:8080/"
        },
        "id": "F3OqBQAiIq4N",
        "outputId": "30c94451-0493-497b-bdd9-133c924dc970"
      },
      "execution_count": 86,
      "outputs": [
        {
          "output_type": "stream",
          "name": "stdout",
          "text": [
            "{'Nama': 'Philemon Hasoloan Maxaudi', 'NIM': '2021071020', 'Prodi': 'Informatika', 'Universitas': 'UPJ'}\n"
          ]
        }
      ]
    },
    {
      "cell_type": "code",
      "source": [
        "green = {'grass','leaves'}\n",
        "print(green)"
      ],
      "metadata": {
        "colab": {
          "base_uri": "https://localhost:8080/"
        },
        "id": "_cdD1GyALJi4",
        "outputId": "ecdeee94-13da-4e88-8318-3d428ad8f3bd"
      },
      "execution_count": 87,
      "outputs": [
        {
          "output_type": "stream",
          "name": "stdout",
          "text": [
            "{'grass', 'leaves'}\n"
          ]
        }
      ]
    },
    {
      "cell_type": "code",
      "source": [
        "yellow = {'dandelions', 'leaves', 'fire hydrant'}\n",
        "red = {'rose', 'blood', 'leaves', 'fire hydrant'}\n",
        "\n",
        "print (yellow | red)\n",
        "print (yellow & red)"
      ],
      "metadata": {
        "colab": {
          "base_uri": "https://localhost:8080/"
        },
        "id": "KBs4wDUjOC2T",
        "outputId": "65264d43-ff2d-42e9-8f64-08397389168b"
      },
      "execution_count": 98,
      "outputs": [
        {
          "output_type": "stream",
          "name": "stdout",
          "text": [
            "{'blood', 'fire hydrant', 'dandelions', 'leaves', 'rose'}\n",
            "{'fire hydrant', 'leaves'}\n"
          ]
        }
      ]
    },
    {
      "cell_type": "code",
      "source": [
        "import pandas as pd\n",
        "df=pd.DataFrame([\n",
        "    ['1','Fares',32,True],\n",
        "    ['2','Elena',23,False],\n",
        "    ['3','Steven',40,True]])\n",
        "df.columns = ['id','name','age','decision']\n",
        "df"
      ],
      "metadata": {
        "colab": {
          "base_uri": "https://localhost:8080/",
          "height": 143
        },
        "id": "-OXoHtH2RjZE",
        "outputId": "991d15cc-f4e0-43e6-9c1f-fd653689f1ca"
      },
      "execution_count": 102,
      "outputs": [
        {
          "output_type": "execute_result",
          "data": {
            "text/plain": [
              "  id    name  age  decision\n",
              "0  1   Fares   32      True\n",
              "1  2   Elena   23     False\n",
              "2  3  Steven   40      True"
            ],
            "text/html": [
              "\n",
              "  <div id=\"df-a50d0b77-484f-4efd-8371-e2be3eb41536\">\n",
              "    <div class=\"colab-df-container\">\n",
              "      <div>\n",
              "<style scoped>\n",
              "    .dataframe tbody tr th:only-of-type {\n",
              "        vertical-align: middle;\n",
              "    }\n",
              "\n",
              "    .dataframe tbody tr th {\n",
              "        vertical-align: top;\n",
              "    }\n",
              "\n",
              "    .dataframe thead th {\n",
              "        text-align: right;\n",
              "    }\n",
              "</style>\n",
              "<table border=\"1\" class=\"dataframe\">\n",
              "  <thead>\n",
              "    <tr style=\"text-align: right;\">\n",
              "      <th></th>\n",
              "      <th>id</th>\n",
              "      <th>name</th>\n",
              "      <th>age</th>\n",
              "      <th>decision</th>\n",
              "    </tr>\n",
              "  </thead>\n",
              "  <tbody>\n",
              "    <tr>\n",
              "      <th>0</th>\n",
              "      <td>1</td>\n",
              "      <td>Fares</td>\n",
              "      <td>32</td>\n",
              "      <td>True</td>\n",
              "    </tr>\n",
              "    <tr>\n",
              "      <th>1</th>\n",
              "      <td>2</td>\n",
              "      <td>Elena</td>\n",
              "      <td>23</td>\n",
              "      <td>False</td>\n",
              "    </tr>\n",
              "    <tr>\n",
              "      <th>2</th>\n",
              "      <td>3</td>\n",
              "      <td>Steven</td>\n",
              "      <td>40</td>\n",
              "      <td>True</td>\n",
              "    </tr>\n",
              "  </tbody>\n",
              "</table>\n",
              "</div>\n",
              "      <button class=\"colab-df-convert\" onclick=\"convertToInteractive('df-a50d0b77-484f-4efd-8371-e2be3eb41536')\"\n",
              "              title=\"Convert this dataframe to an interactive table.\"\n",
              "              style=\"display:none;\">\n",
              "        \n",
              "  <svg xmlns=\"http://www.w3.org/2000/svg\" height=\"24px\"viewBox=\"0 0 24 24\"\n",
              "       width=\"24px\">\n",
              "    <path d=\"M0 0h24v24H0V0z\" fill=\"none\"/>\n",
              "    <path d=\"M18.56 5.44l.94 2.06.94-2.06 2.06-.94-2.06-.94-.94-2.06-.94 2.06-2.06.94zm-11 1L8.5 8.5l.94-2.06 2.06-.94-2.06-.94L8.5 2.5l-.94 2.06-2.06.94zm10 10l.94 2.06.94-2.06 2.06-.94-2.06-.94-.94-2.06-.94 2.06-2.06.94z\"/><path d=\"M17.41 7.96l-1.37-1.37c-.4-.4-.92-.59-1.43-.59-.52 0-1.04.2-1.43.59L10.3 9.45l-7.72 7.72c-.78.78-.78 2.05 0 2.83L4 21.41c.39.39.9.59 1.41.59.51 0 1.02-.2 1.41-.59l7.78-7.78 2.81-2.81c.8-.78.8-2.07 0-2.86zM5.41 20L4 18.59l7.72-7.72 1.47 1.35L5.41 20z\"/>\n",
              "  </svg>\n",
              "      </button>\n",
              "      \n",
              "  <style>\n",
              "    .colab-df-container {\n",
              "      display:flex;\n",
              "      flex-wrap:wrap;\n",
              "      gap: 12px;\n",
              "    }\n",
              "\n",
              "    .colab-df-convert {\n",
              "      background-color: #E8F0FE;\n",
              "      border: none;\n",
              "      border-radius: 50%;\n",
              "      cursor: pointer;\n",
              "      display: none;\n",
              "      fill: #1967D2;\n",
              "      height: 32px;\n",
              "      padding: 0 0 0 0;\n",
              "      width: 32px;\n",
              "    }\n",
              "\n",
              "    .colab-df-convert:hover {\n",
              "      background-color: #E2EBFA;\n",
              "      box-shadow: 0px 1px 2px rgba(60, 64, 67, 0.3), 0px 1px 3px 1px rgba(60, 64, 67, 0.15);\n",
              "      fill: #174EA6;\n",
              "    }\n",
              "\n",
              "    [theme=dark] .colab-df-convert {\n",
              "      background-color: #3B4455;\n",
              "      fill: #D2E3FC;\n",
              "    }\n",
              "\n",
              "    [theme=dark] .colab-df-convert:hover {\n",
              "      background-color: #434B5C;\n",
              "      box-shadow: 0px 1px 3px 1px rgba(0, 0, 0, 0.15);\n",
              "      filter: drop-shadow(0px 1px 2px rgba(0, 0, 0, 0.3));\n",
              "      fill: #FFFFFF;\n",
              "    }\n",
              "  </style>\n",
              "\n",
              "      <script>\n",
              "        const buttonEl =\n",
              "          document.querySelector('#df-a50d0b77-484f-4efd-8371-e2be3eb41536 button.colab-df-convert');\n",
              "        buttonEl.style.display =\n",
              "          google.colab.kernel.accessAllowed ? 'block' : 'none';\n",
              "\n",
              "        async function convertToInteractive(key) {\n",
              "          const element = document.querySelector('#df-a50d0b77-484f-4efd-8371-e2be3eb41536');\n",
              "          const dataTable =\n",
              "            await google.colab.kernel.invokeFunction('convertToInteractive',\n",
              "                                                     [key], {});\n",
              "          if (!dataTable) return;\n",
              "\n",
              "          const docLinkHtml = 'Like what you see? Visit the ' +\n",
              "            '<a target=\"_blank\" href=https://colab.research.google.com/notebooks/data_table.ipynb>data table notebook</a>'\n",
              "            + ' to learn more about interactive tables.';\n",
              "          element.innerHTML = '';\n",
              "          dataTable['output_type'] = 'display_data';\n",
              "          await google.colab.output.renderOutput(dataTable, element);\n",
              "          const docLink = document.createElement('div');\n",
              "          docLink.innerHTML = docLinkHtml;\n",
              "          element.appendChild(docLink);\n",
              "        }\n",
              "      </script>\n",
              "    </div>\n",
              "  </div>\n",
              "  "
            ]
          },
          "metadata": {},
          "execution_count": 102
        }
      ]
    }
  ]
}